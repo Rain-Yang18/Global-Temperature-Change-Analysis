{
 "cells": [
  {
   "cell_type": "markdown",
   "metadata": {},
   "source": [
    "# Project One: Climate Change - Earth Surface Temperature"
   ]
  },
  {
   "cell_type": "code",
   "execution_count": 1,
   "metadata": {},
   "outputs": [],
   "source": [
    "# Import relevant dependencies\n",
    "\n",
    "import pandas as pd\n",
    "import gmaps\n",
    "import matplotlib.pyplot as plt\n",
    "import scipy.stats as stats\n",
    "from scipy.stats import linregress\n",
    "import requests\n",
    "import json\n",
    "import scipy.stats as st\n",
    "from pprint import pprint\n",
    "import numpy as np\n",
    "from config import g_api"
   ]
  },
  {
   "cell_type": "markdown",
   "metadata": {},
   "source": [
    "## Data Cleanup\n",
    "\n"
   ]
  },
  {
   "cell_type": "markdown",
   "metadata": {},
   "source": [
    "#### Import & clean up our primary data - global temperature"
   ]
  },
  {
   "cell_type": "code",
   "execution_count": 2,
   "metadata": {},
   "outputs": [
    {
     "data": {
      "text/html": [
       "<div>\n",
       "<style scoped>\n",
       "    .dataframe tbody tr th:only-of-type {\n",
       "        vertical-align: middle;\n",
       "    }\n",
       "\n",
       "    .dataframe tbody tr th {\n",
       "        vertical-align: top;\n",
       "    }\n",
       "\n",
       "    .dataframe thead th {\n",
       "        text-align: right;\n",
       "    }\n",
       "</style>\n",
       "<table border=\"1\" class=\"dataframe\">\n",
       "  <thead>\n",
       "    <tr style=\"text-align: right;\">\n",
       "      <th></th>\n",
       "      <th>AverageTemperature</th>\n",
       "      <th>AverageTemperatureUncertainty</th>\n",
       "      <th>Country</th>\n",
       "    </tr>\n",
       "    <tr>\n",
       "      <th>dt</th>\n",
       "      <th></th>\n",
       "      <th></th>\n",
       "      <th></th>\n",
       "    </tr>\n",
       "  </thead>\n",
       "  <tbody>\n",
       "    <tr>\n",
       "      <th>1743-11-01</th>\n",
       "      <td>4.384</td>\n",
       "      <td>2.294</td>\n",
       "      <td>Åland</td>\n",
       "    </tr>\n",
       "    <tr>\n",
       "      <th>1744-04-01</th>\n",
       "      <td>1.530</td>\n",
       "      <td>4.680</td>\n",
       "      <td>Åland</td>\n",
       "    </tr>\n",
       "    <tr>\n",
       "      <th>1744-05-01</th>\n",
       "      <td>6.702</td>\n",
       "      <td>1.789</td>\n",
       "      <td>Åland</td>\n",
       "    </tr>\n",
       "    <tr>\n",
       "      <th>1744-06-01</th>\n",
       "      <td>11.609</td>\n",
       "      <td>1.577</td>\n",
       "      <td>Åland</td>\n",
       "    </tr>\n",
       "    <tr>\n",
       "      <th>1744-07-01</th>\n",
       "      <td>15.342</td>\n",
       "      <td>1.410</td>\n",
       "      <td>Åland</td>\n",
       "    </tr>\n",
       "  </tbody>\n",
       "</table>\n",
       "</div>"
      ],
      "text/plain": [
       "            AverageTemperature  AverageTemperatureUncertainty Country\n",
       "dt                                                                   \n",
       "1743-11-01               4.384                          2.294   Åland\n",
       "1744-04-01               1.530                          4.680   Åland\n",
       "1744-05-01               6.702                          1.789   Åland\n",
       "1744-06-01              11.609                          1.577   Åland\n",
       "1744-07-01              15.342                          1.410   Åland"
      ]
     },
     "execution_count": 2,
     "metadata": {},
     "output_type": "execute_result"
    }
   ],
   "source": [
    "# Read CSV & format the date variable & remove na\n",
    "global_temp = pd.read_csv('GlobalLandTemperaturesByCountry 4.csv',parse_dates=[\"dt\"], index_col=\"dt\")\n",
    "global_temp.dropna(inplace=True)\n",
    "\n",
    "# Preview the DataFrame\n",
    "global_temp.head()\n"
   ]
  },
  {
   "cell_type": "code",
   "execution_count": 3,
   "metadata": {},
   "outputs": [
    {
     "data": {
      "text/html": [
       "<div>\n",
       "<style scoped>\n",
       "    .dataframe tbody tr th:only-of-type {\n",
       "        vertical-align: middle;\n",
       "    }\n",
       "\n",
       "    .dataframe tbody tr th {\n",
       "        vertical-align: top;\n",
       "    }\n",
       "\n",
       "    .dataframe thead th {\n",
       "        text-align: right;\n",
       "    }\n",
       "</style>\n",
       "<table border=\"1\" class=\"dataframe\">\n",
       "  <thead>\n",
       "    <tr style=\"text-align: right;\">\n",
       "      <th></th>\n",
       "      <th>AverageTemperature</th>\n",
       "      <th>AverageTemperatureUncertainty</th>\n",
       "      <th>Country</th>\n",
       "      <th>Year</th>\n",
       "    </tr>\n",
       "    <tr>\n",
       "      <th>dt</th>\n",
       "      <th></th>\n",
       "      <th></th>\n",
       "      <th></th>\n",
       "      <th></th>\n",
       "    </tr>\n",
       "  </thead>\n",
       "  <tbody>\n",
       "    <tr>\n",
       "      <th>1743-11-01</th>\n",
       "      <td>4.384</td>\n",
       "      <td>2.294</td>\n",
       "      <td>Åland</td>\n",
       "      <td>1743</td>\n",
       "    </tr>\n",
       "    <tr>\n",
       "      <th>1744-04-01</th>\n",
       "      <td>1.530</td>\n",
       "      <td>4.680</td>\n",
       "      <td>Åland</td>\n",
       "      <td>1744</td>\n",
       "    </tr>\n",
       "    <tr>\n",
       "      <th>1744-05-01</th>\n",
       "      <td>6.702</td>\n",
       "      <td>1.789</td>\n",
       "      <td>Åland</td>\n",
       "      <td>1744</td>\n",
       "    </tr>\n",
       "    <tr>\n",
       "      <th>1744-06-01</th>\n",
       "      <td>11.609</td>\n",
       "      <td>1.577</td>\n",
       "      <td>Åland</td>\n",
       "      <td>1744</td>\n",
       "    </tr>\n",
       "    <tr>\n",
       "      <th>1744-07-01</th>\n",
       "      <td>15.342</td>\n",
       "      <td>1.410</td>\n",
       "      <td>Åland</td>\n",
       "      <td>1744</td>\n",
       "    </tr>\n",
       "  </tbody>\n",
       "</table>\n",
       "</div>"
      ],
      "text/plain": [
       "            AverageTemperature  AverageTemperatureUncertainty Country  Year\n",
       "dt                                                                         \n",
       "1743-11-01               4.384                          2.294   Åland  1743\n",
       "1744-04-01               1.530                          4.680   Åland  1744\n",
       "1744-05-01               6.702                          1.789   Åland  1744\n",
       "1744-06-01              11.609                          1.577   Åland  1744\n",
       "1744-07-01              15.342                          1.410   Åland  1744"
      ]
     },
     "execution_count": 3,
     "metadata": {},
     "output_type": "execute_result"
    }
   ],
   "source": [
    "# Retrieve the Year from the \"dt\" variable for later groupby process\n",
    "global_temp[\"Year\"] = global_temp.index.year\n",
    "\n",
    "# Preview DataFrame\n",
    "global_temp.head()"
   ]
  },
  {
   "cell_type": "code",
   "execution_count": 4,
   "metadata": {
    "scrolled": false
   },
   "outputs": [
    {
     "data": {
      "text/html": [
       "<div>\n",
       "<style scoped>\n",
       "    .dataframe tbody tr th:only-of-type {\n",
       "        vertical-align: middle;\n",
       "    }\n",
       "\n",
       "    .dataframe tbody tr th {\n",
       "        vertical-align: top;\n",
       "    }\n",
       "\n",
       "    .dataframe thead th {\n",
       "        text-align: right;\n",
       "    }\n",
       "</style>\n",
       "<table border=\"1\" class=\"dataframe\">\n",
       "  <thead>\n",
       "    <tr style=\"text-align: right;\">\n",
       "      <th></th>\n",
       "      <th>AverageTemperature</th>\n",
       "      <th>AverageTemperatureUncertainty</th>\n",
       "      <th>Country</th>\n",
       "      <th>Year</th>\n",
       "    </tr>\n",
       "    <tr>\n",
       "      <th>dt</th>\n",
       "      <th></th>\n",
       "      <th></th>\n",
       "      <th></th>\n",
       "      <th></th>\n",
       "    </tr>\n",
       "  </thead>\n",
       "  <tbody>\n",
       "    <tr>\n",
       "      <th>1912-01-01</th>\n",
       "      <td>-5.222</td>\n",
       "      <td>0.849</td>\n",
       "      <td>Åland</td>\n",
       "      <td>1912</td>\n",
       "    </tr>\n",
       "    <tr>\n",
       "      <th>1912-02-01</th>\n",
       "      <td>-5.145</td>\n",
       "      <td>0.478</td>\n",
       "      <td>Åland</td>\n",
       "      <td>1912</td>\n",
       "    </tr>\n",
       "    <tr>\n",
       "      <th>1912-03-01</th>\n",
       "      <td>0.678</td>\n",
       "      <td>0.830</td>\n",
       "      <td>Åland</td>\n",
       "      <td>1912</td>\n",
       "    </tr>\n",
       "    <tr>\n",
       "      <th>1912-04-01</th>\n",
       "      <td>1.216</td>\n",
       "      <td>0.336</td>\n",
       "      <td>Åland</td>\n",
       "      <td>1912</td>\n",
       "    </tr>\n",
       "    <tr>\n",
       "      <th>1912-05-01</th>\n",
       "      <td>5.420</td>\n",
       "      <td>0.229</td>\n",
       "      <td>Åland</td>\n",
       "      <td>1912</td>\n",
       "    </tr>\n",
       "  </tbody>\n",
       "</table>\n",
       "</div>"
      ],
      "text/plain": [
       "            AverageTemperature  AverageTemperatureUncertainty Country  Year\n",
       "dt                                                                         \n",
       "1912-01-01              -5.222                          0.849   Åland  1912\n",
       "1912-02-01              -5.145                          0.478   Åland  1912\n",
       "1912-03-01               0.678                          0.830   Åland  1912\n",
       "1912-04-01               1.216                          0.336   Åland  1912\n",
       "1912-05-01               5.420                          0.229   Åland  1912"
      ]
     },
     "execution_count": 4,
     "metadata": {},
     "output_type": "execute_result"
    }
   ],
   "source": [
    "# Only taking the data between 1912 & 2012 & drop Antarctic & Africa\n",
    "\n",
    "filtered_df = global_temp.loc[(global_temp[\"Year\"]>=1912) & \n",
    "                              (global_temp[\"Year\"]<2013) &\n",
    "                              (global_temp[\"Country\"] != \"French Southern And Antarctic Lands\") & \n",
    "                              (global_temp[\"Country\"] != \"Africa\")]\n",
    "\n",
    "filtered_df.head()"
   ]
  },
  {
   "cell_type": "code",
   "execution_count": 5,
   "metadata": {},
   "outputs": [
    {
     "data": {
      "text/html": [
       "<div>\n",
       "<style scoped>\n",
       "    .dataframe tbody tr th:only-of-type {\n",
       "        vertical-align: middle;\n",
       "    }\n",
       "\n",
       "    .dataframe tbody tr th {\n",
       "        vertical-align: top;\n",
       "    }\n",
       "\n",
       "    .dataframe thead th {\n",
       "        text-align: right;\n",
       "    }\n",
       "</style>\n",
       "<table border=\"1\" class=\"dataframe\">\n",
       "  <thead>\n",
       "    <tr style=\"text-align: right;\">\n",
       "      <th></th>\n",
       "      <th>Year</th>\n",
       "      <th>AverageTemperature</th>\n",
       "    </tr>\n",
       "  </thead>\n",
       "  <tbody>\n",
       "    <tr>\n",
       "      <th>0</th>\n",
       "      <td>1912</td>\n",
       "      <td>18.442027</td>\n",
       "    </tr>\n",
       "    <tr>\n",
       "      <th>1</th>\n",
       "      <td>1913</td>\n",
       "      <td>18.468523</td>\n",
       "    </tr>\n",
       "    <tr>\n",
       "      <th>2</th>\n",
       "      <td>1914</td>\n",
       "      <td>18.637188</td>\n",
       "    </tr>\n",
       "    <tr>\n",
       "      <th>3</th>\n",
       "      <td>1915</td>\n",
       "      <td>18.688382</td>\n",
       "    </tr>\n",
       "    <tr>\n",
       "      <th>4</th>\n",
       "      <td>1916</td>\n",
       "      <td>18.529711</td>\n",
       "    </tr>\n",
       "  </tbody>\n",
       "</table>\n",
       "</div>"
      ],
      "text/plain": [
       "   Year  AverageTemperature\n",
       "0  1912           18.442027\n",
       "1  1913           18.468523\n",
       "2  1914           18.637188\n",
       "3  1915           18.688382\n",
       "4  1916           18.529711"
      ]
     },
     "execution_count": 5,
     "metadata": {},
     "output_type": "execute_result"
    }
   ],
   "source": [
    "# Groupby Year to create the global average yearly temperature DataFrame (1st question)\n",
    "\n",
    "global_yearly = filtered_df.groupby(\"Year\").agg({\"AverageTemperature\":\"mean\"}).reset_index()\n",
    "\n",
    "global_yearly.head()"
   ]
  },
  {
   "cell_type": "code",
   "execution_count": 6,
   "metadata": {},
   "outputs": [
    {
     "data": {
      "text/html": [
       "<div>\n",
       "<style scoped>\n",
       "    .dataframe tbody tr th:only-of-type {\n",
       "        vertical-align: middle;\n",
       "    }\n",
       "\n",
       "    .dataframe tbody tr th {\n",
       "        vertical-align: top;\n",
       "    }\n",
       "\n",
       "    .dataframe thead th {\n",
       "        text-align: right;\n",
       "    }\n",
       "</style>\n",
       "<table border=\"1\" class=\"dataframe\">\n",
       "  <thead>\n",
       "    <tr style=\"text-align: right;\">\n",
       "      <th></th>\n",
       "      <th>Country</th>\n",
       "      <th>Year</th>\n",
       "      <th>AverageTemperature</th>\n",
       "    </tr>\n",
       "  </thead>\n",
       "  <tbody>\n",
       "    <tr>\n",
       "      <th>0</th>\n",
       "      <td>Afghanistan</td>\n",
       "      <td>1912</td>\n",
       "      <td>13.902667</td>\n",
       "    </tr>\n",
       "    <tr>\n",
       "      <th>1</th>\n",
       "      <td>Afghanistan</td>\n",
       "      <td>1913</td>\n",
       "      <td>13.859250</td>\n",
       "    </tr>\n",
       "    <tr>\n",
       "      <th>2</th>\n",
       "      <td>Afghanistan</td>\n",
       "      <td>1914</td>\n",
       "      <td>14.296833</td>\n",
       "    </tr>\n",
       "    <tr>\n",
       "      <th>3</th>\n",
       "      <td>Afghanistan</td>\n",
       "      <td>1915</td>\n",
       "      <td>14.914583</td>\n",
       "    </tr>\n",
       "    <tr>\n",
       "      <th>4</th>\n",
       "      <td>Afghanistan</td>\n",
       "      <td>1916</td>\n",
       "      <td>13.343000</td>\n",
       "    </tr>\n",
       "  </tbody>\n",
       "</table>\n",
       "</div>"
      ],
      "text/plain": [
       "       Country  Year  AverageTemperature\n",
       "0  Afghanistan  1912           13.902667\n",
       "1  Afghanistan  1913           13.859250\n",
       "2  Afghanistan  1914           14.296833\n",
       "3  Afghanistan  1915           14.914583\n",
       "4  Afghanistan  1916           13.343000"
      ]
     },
     "execution_count": 6,
     "metadata": {},
     "output_type": "execute_result"
    }
   ],
   "source": [
    "# Groupby Year & Country and calculate the average yearly temperature for each country in each year\n",
    "# This DataFrame will be used as the main DataFrame for resolving later questions\n",
    "\n",
    "country_yearly = filtered_df.groupby([\"Country\",\"Year\"]).agg({\"AverageTemperature\":\"mean\"}).reset_index()\n",
    "\n",
    "country_yearly.head()"
   ]
  },
  {
   "cell_type": "code",
   "execution_count": 7,
   "metadata": {},
   "outputs": [
    {
     "data": {
      "text/html": [
       "<div>\n",
       "<style scoped>\n",
       "    .dataframe tbody tr th:only-of-type {\n",
       "        vertical-align: middle;\n",
       "    }\n",
       "\n",
       "    .dataframe tbody tr th {\n",
       "        vertical-align: top;\n",
       "    }\n",
       "\n",
       "    .dataframe thead th {\n",
       "        text-align: right;\n",
       "    }\n",
       "</style>\n",
       "<table border=\"1\" class=\"dataframe\">\n",
       "  <thead>\n",
       "    <tr style=\"text-align: right;\">\n",
       "      <th></th>\n",
       "      <th>Country</th>\n",
       "    </tr>\n",
       "  </thead>\n",
       "  <tbody>\n",
       "    <tr>\n",
       "      <th>0</th>\n",
       "      <td>Afghanistan</td>\n",
       "    </tr>\n",
       "    <tr>\n",
       "      <th>1</th>\n",
       "      <td>Albania</td>\n",
       "    </tr>\n",
       "    <tr>\n",
       "      <th>2</th>\n",
       "      <td>Algeria</td>\n",
       "    </tr>\n",
       "    <tr>\n",
       "      <th>3</th>\n",
       "      <td>American Samoa</td>\n",
       "    </tr>\n",
       "    <tr>\n",
       "      <th>4</th>\n",
       "      <td>Andorra</td>\n",
       "    </tr>\n",
       "  </tbody>\n",
       "</table>\n",
       "</div>"
      ],
      "text/plain": [
       "          Country\n",
       "0     Afghanistan\n",
       "1         Albania\n",
       "2         Algeria\n",
       "3  American Samoa\n",
       "4         Andorra"
      ]
     },
     "execution_count": 7,
     "metadata": {},
     "output_type": "execute_result"
    }
   ],
   "source": [
    "listofcountries = filtered_df.groupby([\"Country\"]).agg({\"AverageTemperature\":\"mean\"}).reset_index()\n",
    "listofcountries = listofcountries.drop(columns=[\"AverageTemperature\"])\n",
    "\n",
    "listofcountries.head()\n"
   ]
  },
  {
   "cell_type": "markdown",
   "metadata": {},
   "source": [
    "#### Importing our second data source csv file - global population"
   ]
  },
  {
   "cell_type": "code",
   "execution_count": 8,
   "metadata": {},
   "outputs": [
    {
     "data": {
      "text/html": [
       "<div>\n",
       "<style scoped>\n",
       "    .dataframe tbody tr th:only-of-type {\n",
       "        vertical-align: middle;\n",
       "    }\n",
       "\n",
       "    .dataframe tbody tr th {\n",
       "        vertical-align: top;\n",
       "    }\n",
       "\n",
       "    .dataframe thead th {\n",
       "        text-align: right;\n",
       "    }\n",
       "</style>\n",
       "<table border=\"1\" class=\"dataframe\">\n",
       "  <thead>\n",
       "    <tr style=\"text-align: right;\">\n",
       "      <th></th>\n",
       "      <th>Year</th>\n",
       "      <th>Count</th>\n",
       "    </tr>\n",
       "  </thead>\n",
       "  <tbody>\n",
       "    <tr>\n",
       "      <th>0</th>\n",
       "      <td>1960</td>\n",
       "      <td>3019770047</td>\n",
       "    </tr>\n",
       "    <tr>\n",
       "      <th>1</th>\n",
       "      <td>1961</td>\n",
       "      <td>3060517665</td>\n",
       "    </tr>\n",
       "    <tr>\n",
       "      <th>2</th>\n",
       "      <td>1962</td>\n",
       "      <td>3113194711</td>\n",
       "    </tr>\n",
       "    <tr>\n",
       "      <th>3</th>\n",
       "      <td>1963</td>\n",
       "      <td>3177998236</td>\n",
       "    </tr>\n",
       "    <tr>\n",
       "      <th>4</th>\n",
       "      <td>1964</td>\n",
       "      <td>3243186569</td>\n",
       "    </tr>\n",
       "  </tbody>\n",
       "</table>\n",
       "</div>"
      ],
      "text/plain": [
       "   Year       Count\n",
       "0  1960  3019770047\n",
       "1  1961  3060517665\n",
       "2  1962  3113194711\n",
       "3  1963  3177998236\n",
       "4  1964  3243186569"
      ]
     },
     "execution_count": 8,
     "metadata": {},
     "output_type": "execute_result"
    }
   ],
   "source": [
    "# Read CSV & format the date variable & remove na\n",
    "global_pop = pd.read_csv('population_total_long.csv')\n",
    "global_pop.dropna(inplace=True)\n",
    "\n",
    "# Preview the DataFrame\n",
    "global_pop.head()\n",
    "\n",
    "globalpopulation = global_pop.groupby(\"Year\").agg({\"Count\":\"sum\"}).reset_index()\n",
    "\n",
    "globalpopulation.head()"
   ]
  },
  {
   "cell_type": "markdown",
   "metadata": {},
   "source": [
    "#### Merging past global temperature file with the global population file"
   ]
  },
  {
   "cell_type": "code",
   "execution_count": 9,
   "metadata": {},
   "outputs": [
    {
     "data": {
      "text/html": [
       "<div>\n",
       "<style scoped>\n",
       "    .dataframe tbody tr th:only-of-type {\n",
       "        vertical-align: middle;\n",
       "    }\n",
       "\n",
       "    .dataframe tbody tr th {\n",
       "        vertical-align: top;\n",
       "    }\n",
       "\n",
       "    .dataframe thead th {\n",
       "        text-align: right;\n",
       "    }\n",
       "</style>\n",
       "<table border=\"1\" class=\"dataframe\">\n",
       "  <thead>\n",
       "    <tr style=\"text-align: right;\">\n",
       "      <th></th>\n",
       "      <th>Year</th>\n",
       "      <th>AverageTemperature</th>\n",
       "      <th>World Population</th>\n",
       "    </tr>\n",
       "  </thead>\n",
       "  <tbody>\n",
       "    <tr>\n",
       "      <th>48</th>\n",
       "      <td>1960</td>\n",
       "      <td>18.921825</td>\n",
       "      <td>3.019770e+09</td>\n",
       "    </tr>\n",
       "    <tr>\n",
       "      <th>49</th>\n",
       "      <td>1961</td>\n",
       "      <td>18.961485</td>\n",
       "      <td>3.060518e+09</td>\n",
       "    </tr>\n",
       "    <tr>\n",
       "      <th>50</th>\n",
       "      <td>1962</td>\n",
       "      <td>18.729411</td>\n",
       "      <td>3.113195e+09</td>\n",
       "    </tr>\n",
       "    <tr>\n",
       "      <th>51</th>\n",
       "      <td>1963</td>\n",
       "      <td>18.711444</td>\n",
       "      <td>3.177998e+09</td>\n",
       "    </tr>\n",
       "    <tr>\n",
       "      <th>52</th>\n",
       "      <td>1964</td>\n",
       "      <td>18.618521</td>\n",
       "      <td>3.243187e+09</td>\n",
       "    </tr>\n",
       "  </tbody>\n",
       "</table>\n",
       "</div>"
      ],
      "text/plain": [
       "    Year  AverageTemperature  World Population\n",
       "48  1960           18.921825      3.019770e+09\n",
       "49  1961           18.961485      3.060518e+09\n",
       "50  1962           18.729411      3.113195e+09\n",
       "51  1963           18.711444      3.177998e+09\n",
       "52  1964           18.618521      3.243187e+09"
      ]
     },
     "execution_count": 9,
     "metadata": {},
     "output_type": "execute_result"
    }
   ],
   "source": [
    "combinedglobal = pd.merge(global_yearly, globalpopulation, on = \"Year\", how=\"left\")\n",
    "combinedglobal.rename(columns={\"Count\":\"World Population\"}, inplace=True)\n",
    "combinedglobal.dropna(inplace=True)\n",
    "\n",
    "combinedglobal.head()"
   ]
  },
  {
   "cell_type": "code",
   "execution_count": null,
   "metadata": {},
   "outputs": [],
   "source": []
  },
  {
   "cell_type": "markdown",
   "metadata": {},
   "source": [
    "## Analysis"
   ]
  },
  {
   "cell_type": "markdown",
   "metadata": {},
   "source": [
    "### 1. What’s the global average yearly temperature movements over the last 10 or 11 decades?\n",
    "       a. Assumption: The global average yearly temperature has increased\n"
   ]
  },
  {
   "cell_type": "code",
   "execution_count": 10,
   "metadata": {},
   "outputs": [
    {
     "data": {
      "image/png": "[encoded data removed]",
      "text/plain": [
       "<Figure size 432x288 with 1 Axes>"
      ]
     },
     "metadata": {
      "needs_background": "light"
     },
     "output_type": "display_data"
    }
   ],
   "source": [
    "# Global average yearly temperature movements over the last 10 decades\n",
    "global_yearly = filtered_df.groupby(\"Year\").agg({\"AverageTemperature\":\"mean\"}).plot()\n",
    "\n",
    "plt.title(\"Global Yearly Average Temperature (1912-2012)\")\n",
    "plt.ylabel(\"Global Yearly Average Temperature\")\n",
    "\n",
    "plt.grid()\n",
    "\n",
    "global_yearly\n",
    "\n",
    "plt.savefig(\"Global Yearly Average Temperature (1912-2012).png\")"
   ]
  },
  {
   "cell_type": "code",
   "execution_count": null,
   "metadata": {},
   "outputs": [],
   "source": []
  },
  {
   "cell_type": "code",
   "execution_count": null,
   "metadata": {},
   "outputs": [],
   "source": []
  },
  {
   "cell_type": "markdown",
   "metadata": {},
   "source": [
    "### 2. Is there a correlation between global population growth and temperature rise?\n"
   ]
  },
  {
   "cell_type": "code",
   "execution_count": 32,
   "metadata": {},
   "outputs": [
    {
     "name": "stdout",
     "output_type": "stream",
     "text": [
      "The correlation coefficient between Global Population and Average Temperature is 0.89\n"
     ]
    },
    {
     "data": {
      "image/png": "[encoded data removed]",
      "text/plain": [
       "<Figure size 432x288 with 1 Axes>"
      ]
     },
     "metadata": {
      "needs_background": "light"
     },
     "output_type": "display_data"
    }
   ],
   "source": [
    "combinedglobal.dtypes\n",
    "x_values = combinedglobal[\"World Population\"]\n",
    "y_values = combinedglobal.AverageTemperature\n",
    "combinedglobal.plot.scatter(x=\"World Population\", y=\"AverageTemperature\")\n",
    "plt.title(\"Global Yearly Population vs. Global Yearly Average Temperature (1960-2012)\")\n",
    "plt.xlabel(\"Global Yearly Population\")\n",
    "plt.ylabel(\"Global Yearly Average Temperature\")\n",
    "\n",
    "plt.grid()\n",
    "\n",
    "plt.savefig(\"Global Yearly Population vs. Global Yearly Average Temperature (1960-2012).png\")\n",
    "\n",
    "print(f\"The correlation coefficient between Global Population and Average Temperature is {round(st.pearsonr(x_values,y_values)[0],2)}\")"
   ]
  },
  {
   "cell_type": "code",
   "execution_count": 33,
   "metadata": {
    "scrolled": true
   },
   "outputs": [
    {
     "name": "stdout",
     "output_type": "stream",
     "text": [
      "The r-squared is: 0.7944268605457058\n"
     ]
    },
    {
     "data": {
      "image/png": "[encoded data removed]",
      "text/plain": [
       "<Figure size 432x288 with 1 Axes>"
      ]
     },
     "metadata": {
      "needs_background": "light"
     },
     "output_type": "display_data"
    }
   ],
   "source": [
    "(slope, intercept, rvalue, pvalue, stderr) = linregress(x_values, y_values)\n",
    "regress_values = x_values * slope + intercept\n",
    "line_eq = \"y = \" + str(round(slope,2)) + \"x + \" + str(round(intercept,2))\n",
    "plt.scatter(x_values,y_values)\n",
    "plt.plot(x_values,regress_values,\"r-\")\n",
    "plt.annotate(line_eq,(5.5e+09,19),fontsize=15,color=\"red\")\n",
    "plt.title(\"Global Yearly Population vs. Global Yearly Average Temperature (1960-2012)\")\n",
    "plt.xlabel(\"Global Yearly Population\")\n",
    "plt.ylabel(\"Global Yearly Average Temperature\")\n",
    "\n",
    "plt.grid()\n",
    "\n",
    "plt.savefig(\"Global Yearly Population vs. Global Yearly Average Temperature (1960-2012) V2.png\")\n",
    "\n",
    "print(f\"The r-squared is: {rvalue**2}\")"
   ]
  },
  {
   "cell_type": "code",
   "execution_count": null,
   "metadata": {},
   "outputs": [],
   "source": []
  },
  {
   "cell_type": "markdown",
   "metadata": {},
   "source": [
    "### 3. If the temperature movements across the last 10 or 11 decades were different between the Northern and Southern hemisphere.\n",
    "\n"
   ]
  },
  {
   "cell_type": "code",
   "execution_count": 13,
   "metadata": {},
   "outputs": [
    {
     "data": {
      "text/html": [
       "<div>\n",
       "<style scoped>\n",
       "    .dataframe tbody tr th:only-of-type {\n",
       "        vertical-align: middle;\n",
       "    }\n",
       "\n",
       "    .dataframe tbody tr th {\n",
       "        vertical-align: top;\n",
       "    }\n",
       "\n",
       "    .dataframe thead th {\n",
       "        text-align: right;\n",
       "    }\n",
       "</style>\n",
       "<table border=\"1\" class=\"dataframe\">\n",
       "  <thead>\n",
       "    <tr style=\"text-align: right;\">\n",
       "      <th></th>\n",
       "      <th>Country</th>\n",
       "      <th>Lat</th>\n",
       "      <th>Lng</th>\n",
       "    </tr>\n",
       "  </thead>\n",
       "  <tbody>\n",
       "    <tr>\n",
       "      <th>0</th>\n",
       "      <td>Afghanistan</td>\n",
       "      <td></td>\n",
       "      <td></td>\n",
       "    </tr>\n",
       "    <tr>\n",
       "      <th>1</th>\n",
       "      <td>Albania</td>\n",
       "      <td></td>\n",
       "      <td></td>\n",
       "    </tr>\n",
       "    <tr>\n",
       "      <th>2</th>\n",
       "      <td>Algeria</td>\n",
       "      <td></td>\n",
       "      <td></td>\n",
       "    </tr>\n",
       "    <tr>\n",
       "      <th>3</th>\n",
       "      <td>American Samoa</td>\n",
       "      <td></td>\n",
       "      <td></td>\n",
       "    </tr>\n",
       "    <tr>\n",
       "      <th>4</th>\n",
       "      <td>Andorra</td>\n",
       "      <td></td>\n",
       "      <td></td>\n",
       "    </tr>\n",
       "  </tbody>\n",
       "</table>\n",
       "</div>"
      ],
      "text/plain": [
       "          Country Lat Lng\n",
       "0     Afghanistan        \n",
       "1         Albania        \n",
       "2         Algeria        \n",
       "3  American Samoa        \n",
       "4         Andorra        "
      ]
     },
     "execution_count": 13,
     "metadata": {},
     "output_type": "execute_result"
    }
   ],
   "source": [
    "# Add new columns lat & lng into the listofcountries DataFrame\n",
    "listofcountries[\"Lat\"] = \"\"\n",
    "listofcountries[\"Lng\"] = \"\"\n",
    "\n",
    "listofcountries.head()"
   ]
  },
  {
   "cell_type": "code",
   "execution_count": 14,
   "metadata": {
    "scrolled": true
   },
   "outputs": [
    {
     "name": "stdout",
     "output_type": "stream",
     "text": [
      "Processing record for Country: Afghanistan\n",
      "Processing record for Country: Albania\n",
      "Processing record for Country: Algeria\n",
      "Processing record for Country: American Samoa\n",
      "Processing record for Country: Andorra\n",
      "Processing record for Country: Angola\n",
      "Processing record for Country: Anguilla\n",
      "Processing record for Country: Antigua and Barbuda\n",
      "Processing record for Country: Argentina\n",
      "Processing record for Country: Armenia\n",
      "Processing record for Country: Aruba\n",
      "Processing record for Country: Asia\n",
      "Processing record for Country: Australia\n",
      "Processing record for Country: Austria\n",
      "Processing record for Country: Azerbaijan\n",
      "Processing record for Country: The Bahamas\n",
      "Processing record for Country: Bahrain\n",
      "Processing record for Country: Baker Island\n",
      "Processing record for Country: Bangladesh\n",
      "Processing record for Country: Barbados\n",
      "Processing record for Country: Belarus\n",
      "Processing record for Country: Belgium\n",
      "Processing record for Country: Belize\n",
      "Processing record for Country: Benin\n",
      "Processing record for Country: Bhutan\n",
      "Processing record for Country: Bolivia\n",
      "Processing record for Country: Caribbean Netherlands\n",
      "Processing record for Country: Bosnia and Herzegovina\n",
      "Processing record for Country: Botswana\n",
      "Processing record for Country: Brazil\n",
      "Processing record for Country: British Virgin Islands\n",
      "Processing record for Country: Bulgaria\n",
      "Processing record for Country: Burkina Faso\n",
      "Processing record for Country: Myanmar (Burma)\n",
      "Processing record for Country: Burundi\n",
      "Processing record for Country: Cambodia\n",
      "Processing record for Country: Cameroon\n",
      "Processing record for Country: Canada\n",
      "Processing record for Country: Cape Verde\n",
      "Processing record for Country: Cayman Islands\n",
      "Processing record for Country: Central African Republic\n",
      "Processing record for Country: Chad\n",
      "Processing record for Country: Chile\n",
      "Processing record for Country: China\n",
      "Processing record for Country: Christmas Island\n",
      "Processing record for Country: Colombia\n",
      "Processing record for Country: Comoros\n",
      "Processing record for Country: Democratic Republic of the Congo\n",
      "Processing record for Country: Democratic Republic of the Congo\n",
      "Processing record for Country: Costa Rica\n",
      "Processing record for Country: Croatia\n",
      "Processing record for Country: Cuba\n",
      "Processing record for Country: Curaçao\n",
      "Processing record for Country: Cyprus\n",
      "Processing record for Country: Czechia\n",
      "Processing record for Country: Côte d'Ivoire\n",
      "Processing record for Country: Denmark\n",
      "Processing record for Country: Denmark\n",
      "Processing record for Country: Djibouti\n",
      "Processing record for Country: Dominica\n",
      "Processing record for Country: Dominican Republic\n",
      "Processing record for Country: Ecuador\n",
      "Processing record for Country: Egypt\n",
      "Processing record for Country: El Salvador\n",
      "Processing record for Country: Equatorial Guinea\n",
      "Processing record for Country: Eritrea\n",
      "Processing record for Country: Estonia\n",
      "Processing record for Country: Ethiopia\n",
      "Processing record for Country: Europe\n",
      "Processing record for Country: Falkland Islands (Islas Malvinas)\n",
      "Processing record for Country: Faroe Islands\n",
      "Processing record for Country: Federated States of Micronesia\n",
      "Processing record for Country: Fiji\n",
      "Processing record for Country: Finland\n",
      "Processing record for Country: France\n",
      "Processing record for Country: France\n",
      "Processing record for Country: French Guiana\n",
      "Processing record for Country: French Polynesia\n",
      "Processing record for Country: Gabon\n",
      "Processing record for Country: The Gambia\n",
      "Processing record for Country: Gaza Strip\n",
      "Processing record for Country: Georgia\n",
      "Processing record for Country: Germany\n",
      "Processing record for Country: Ghana\n",
      "Processing record for Country: Greece\n",
      "Processing record for Country: Greenland\n",
      "Processing record for Country: Grenada\n",
      "Processing record for Country: Guadeloupe\n",
      "Processing record for Country: Guam\n",
      "Processing record for Country: Guatemala\n",
      "Processing record for Country: Guernsey\n",
      "Processing record for Country: Guinea\n",
      "Processing record for Country: Guinea-Bissau\n",
      "Processing record for Country: Guyana\n",
      "Processing record for Country: Haiti\n",
      "Processing record for Country: Heard Island and McDonald Islands\n",
      "Processing record for Country: Honduras\n",
      "Processing record for Country: Hong Kong\n",
      "Processing record for Country: Hungary\n",
      "Processing record for Country: Iceland\n",
      "Processing record for Country: India\n",
      "Processing record for Country: Indonesia\n",
      "Processing record for Country: Iran\n",
      "Processing record for Country: Iraq\n",
      "Processing record for Country: Ireland\n",
      "Processing record for Country: Isle of Man\n",
      "Processing record for Country: Israel\n",
      "Processing record for Country: Italy\n",
      "Processing record for Country: Jamaica\n",
      "Processing record for Country: Japan\n",
      "Processing record for Country: Jersey\n",
      "Processing record for Country: 624\n",
      "Processing record for Country: Kazakhstan\n",
      "Processing record for Country: Kenya\n",
      "Processing record for Country: Kingman Reef\n",
      "Processing record for Country: Kiribati\n",
      "Processing record for Country: Kuwait\n",
      "Processing record for Country: Kyrgyzstan\n",
      "Processing record for Country: Laos\n",
      "Processing record for Country: Latvia\n",
      "Processing record for Country: Lebanon\n",
      "Processing record for Country: Lesotho\n",
      "Processing record for Country: Liberia\n",
      "Processing record for Country: Libya\n",
      "Processing record for Country: Liechtenstein\n",
      "Processing record for Country: Lithuania\n",
      "Processing record for Country: Luxembourg\n",
      "Processing record for Country: Macao\n",
      "Processing record for Country: North Macedonia\n",
      "Processing record for Country: Madagascar\n",
      "Processing record for Country: Malawi\n",
      "Processing record for Country: Malaysia\n",
      "Processing record for Country: Mali\n",
      "Processing record for Country: Malta\n",
      "Processing record for Country: Martinique\n",
      "Processing record for Country: Mauritania\n",
      "Processing record for Country: Mauritius\n",
      "Processing record for Country: Mayotte\n",
      "Processing record for Country: Mexico\n",
      "Processing record for Country: Moldova\n",
      "Processing record for Country: Monaco\n",
      "Processing record for Country: Mongolia\n",
      "Processing record for Country: Montenegro\n",
      "Processing record for Country: Montserrat\n",
      "Processing record for Country: Morocco\n",
      "Processing record for Country: Mozambique\n",
      "Processing record for Country: Namibia\n",
      "Processing record for Country: Nepal\n",
      "Processing record for Country: Netherlands\n",
      "Processing record for Country: Netherlands\n",
      "Processing record for Country: New Caledonia\n",
      "Processing record for Country: New Zealand\n",
      "Processing record for Country: Nicaragua\n",
      "Processing record for Country: Niger\n",
      "Processing record for Country: Nigeria\n",
      "Processing record for Country: Niue\n",
      "Processing record for Country: North America\n",
      "Processing record for Country: North Korea\n",
      "Processing record for Country: Northern Mariana Islands\n",
      "Processing record for Country: Norway\n",
      "Processing record for Country: Oceania\n",
      "Processing record for Country: Oman\n",
      "Processing record for Country: Pakistan\n",
      "Processing record for Country: Palau\n",
      "Processing record for Country: Palestine\n",
      "Processing record for Country: Palmyra Atoll\n",
      "Processing record for Country: Panama\n",
      "Processing record for Country: Papua New Guinea\n",
      "Processing record for Country: Paraguay\n",
      "Processing record for Country: Peru\n",
      "Processing record for Country: Philippines\n",
      "Processing record for Country: Poland\n",
      "Processing record for Country: Portugal\n",
      "Processing record for Country: Puerto Rico\n",
      "Processing record for Country: Qatar\n",
      "Processing record for Country: Réunion\n",
      "Processing record for Country: Romania\n",
      "Processing record for Country: Russia\n",
      "Processing record for Country: Rwanda\n",
      "Processing record for Country: Saint Barthélemy\n",
      "Processing record for Country: Saint Kitts and Nevis\n",
      "Processing record for Country: Saint Lucia\n",
      "Processing record for Country: Saint Martin\n",
      "Processing record for Country: Saint Pierre and Miquelon\n",
      "Processing record for Country: Saint Vincent and the Grenadines\n",
      "Processing record for Country: Samoa\n",
      "Processing record for Country: San Marino\n",
      "Processing record for Country: São Tomé and Príncipe\n",
      "Processing record for Country: Saudi Arabia\n",
      "Processing record for Country: Senegal\n",
      "Processing record for Country: Serbia\n",
      "Processing record for Country: Seychelles\n",
      "Processing record for Country: Sierra Leone\n",
      "Processing record for Country: Singapore\n",
      "Processing record for Country: Sint Maarten\n",
      "Processing record for Country: Slovakia\n",
      "Processing record for Country: Slovenia\n",
      "Processing record for Country: Solomon Islands\n"
     ]
    },
    {
     "name": "stdout",
     "output_type": "stream",
     "text": [
      "Processing record for Country: Somalia\n",
      "Processing record for Country: South Africa\n",
      "Processing record for Country: South America\n",
      "Processing record for Country: South Georgia and the South Sandwich Islands\n",
      "Processing record for Country: South Korea\n",
      "Processing record for Country: Spain\n",
      "Processing record for Country: Sri Lanka\n",
      "Processing record for Country: Sudan\n",
      "Processing record for Country: Suriname\n",
      "Processing record for Country: Svalbard and Jan Mayen\n",
      "Processing record for Country: Eswatini\n",
      "Processing record for Country: Sweden\n",
      "Processing record for Country: Switzerland\n",
      "Processing record for Country: Syria\n",
      "Processing record for Country: Taiwan\n",
      "Processing record for Country: Tajikistan\n",
      "Processing record for Country: Tanzania\n",
      "Processing record for Country: Thailand\n",
      "Processing record for Country: Timor-Leste\n",
      "Processing record for Country: Togo\n",
      "Processing record for Country: Tonga\n",
      "Processing record for Country: Trinidad and Tobago\n",
      "Processing record for Country: Tunisia\n",
      "Processing record for Country: Turkey\n",
      "Processing record for Country: Turkmenistan\n",
      "Processing record for Country: Turks and Caicos Islands\n",
      "Processing record for Country: Uganda\n",
      "Processing record for Country: Ukraine\n",
      "Processing record for Country: United Arab Emirates\n",
      "Processing record for Country: United Kingdom\n",
      "Processing record for Country: United Kingdom\n",
      "Processing record for Country: United States\n",
      "Processing record for Country: Uruguay\n",
      "Processing record for Country: Uzbekistan\n",
      "Processing record for Country: Venezuela\n",
      "Processing record for Country: Vietnam\n",
      "Processing record for Country: U.S. Virgin Islands\n",
      "Processing record for Country: Western Sahara\n",
      "Processing record for Country: Yemen\n",
      "Processing record for Country: Zambia\n",
      "Processing record for Country: Zimbabwe\n",
      "Processing record for Country: Åland Islands\n"
     ]
    }
   ],
   "source": [
    "\n",
    "for index, row in listofcountries.iterrows():\n",
    "    country = row[\"Country\"]\n",
    "    target_url = ('https://maps.googleapis.com/maps/api/geocode/json?'\n",
    "    'address={0}&key={1}').format(country, g_api)\n",
    "    geo_data = requests.get(target_url).json()\n",
    "    \n",
    "    try:\n",
    "        listofcountries.loc[index, \"Lat\"] = geo_data[\"results\"][0][\"geometry\"][\"location\"][\"lat\"]\n",
    "        listofcountries.loc[index, \"Lng\"] = geo_data[\"results\"][0][\"geometry\"][\"location\"][\"lng\"]\n",
    "        \n",
    "        print(f'Processing record for Country: {geo_data[\"results\"][0][\"address_components\"][0][\"long_name\"]}')\n",
    "        \n",
    "    except:\n",
    "        print(\"Missing field/result... skipping.\")\n"
   ]
  },
  {
   "cell_type": "code",
   "execution_count": 15,
   "metadata": {
    "scrolled": true
   },
   "outputs": [
    {
     "data": {
      "text/html": [
       "<div>\n",
       "<style scoped>\n",
       "    .dataframe tbody tr th:only-of-type {\n",
       "        vertical-align: middle;\n",
       "    }\n",
       "\n",
       "    .dataframe tbody tr th {\n",
       "        vertical-align: top;\n",
       "    }\n",
       "\n",
       "    .dataframe thead th {\n",
       "        text-align: right;\n",
       "    }\n",
       "</style>\n",
       "<table border=\"1\" class=\"dataframe\">\n",
       "  <thead>\n",
       "    <tr style=\"text-align: right;\">\n",
       "      <th></th>\n",
       "      <th>Country</th>\n",
       "      <th>Lat</th>\n",
       "      <th>Lng</th>\n",
       "    </tr>\n",
       "  </thead>\n",
       "  <tbody>\n",
       "    <tr>\n",
       "      <th>0</th>\n",
       "      <td>Afghanistan</td>\n",
       "      <td>33.9391</td>\n",
       "      <td>67.71</td>\n",
       "    </tr>\n",
       "    <tr>\n",
       "      <th>1</th>\n",
       "      <td>Albania</td>\n",
       "      <td>41.1533</td>\n",
       "      <td>20.1683</td>\n",
       "    </tr>\n",
       "    <tr>\n",
       "      <th>2</th>\n",
       "      <td>Algeria</td>\n",
       "      <td>28.0339</td>\n",
       "      <td>1.65963</td>\n",
       "    </tr>\n",
       "    <tr>\n",
       "      <th>3</th>\n",
       "      <td>American Samoa</td>\n",
       "      <td>-14.271</td>\n",
       "      <td>-170.132</td>\n",
       "    </tr>\n",
       "    <tr>\n",
       "      <th>4</th>\n",
       "      <td>Andorra</td>\n",
       "      <td>42.5063</td>\n",
       "      <td>1.5218</td>\n",
       "    </tr>\n",
       "  </tbody>\n",
       "</table>\n",
       "</div>"
      ],
      "text/plain": [
       "          Country      Lat      Lng\n",
       "0     Afghanistan  33.9391    67.71\n",
       "1         Albania  41.1533  20.1683\n",
       "2         Algeria  28.0339  1.65963\n",
       "3  American Samoa  -14.271 -170.132\n",
       "4         Andorra  42.5063   1.5218"
      ]
     },
     "execution_count": 15,
     "metadata": {},
     "output_type": "execute_result"
    }
   ],
   "source": [
    "listofcountries.head()"
   ]
  },
  {
   "cell_type": "code",
   "execution_count": 16,
   "metadata": {},
   "outputs": [
    {
     "data": {
      "text/html": [
       "<div>\n",
       "<style scoped>\n",
       "    .dataframe tbody tr th:only-of-type {\n",
       "        vertical-align: middle;\n",
       "    }\n",
       "\n",
       "    .dataframe tbody tr th {\n",
       "        vertical-align: top;\n",
       "    }\n",
       "\n",
       "    .dataframe thead th {\n",
       "        text-align: right;\n",
       "    }\n",
       "</style>\n",
       "<table border=\"1\" class=\"dataframe\">\n",
       "  <thead>\n",
       "    <tr style=\"text-align: right;\">\n",
       "      <th></th>\n",
       "      <th>Country</th>\n",
       "      <th>Year</th>\n",
       "      <th>AverageTemperature</th>\n",
       "      <th>Lat</th>\n",
       "      <th>Lng</th>\n",
       "    </tr>\n",
       "  </thead>\n",
       "  <tbody>\n",
       "    <tr>\n",
       "      <th>0</th>\n",
       "      <td>Afghanistan</td>\n",
       "      <td>1912</td>\n",
       "      <td>13.902667</td>\n",
       "      <td>33.9391</td>\n",
       "      <td>67.71</td>\n",
       "    </tr>\n",
       "    <tr>\n",
       "      <th>1</th>\n",
       "      <td>Afghanistan</td>\n",
       "      <td>1913</td>\n",
       "      <td>13.859250</td>\n",
       "      <td>33.9391</td>\n",
       "      <td>67.71</td>\n",
       "    </tr>\n",
       "    <tr>\n",
       "      <th>2</th>\n",
       "      <td>Afghanistan</td>\n",
       "      <td>1914</td>\n",
       "      <td>14.296833</td>\n",
       "      <td>33.9391</td>\n",
       "      <td>67.71</td>\n",
       "    </tr>\n",
       "    <tr>\n",
       "      <th>3</th>\n",
       "      <td>Afghanistan</td>\n",
       "      <td>1915</td>\n",
       "      <td>14.914583</td>\n",
       "      <td>33.9391</td>\n",
       "      <td>67.71</td>\n",
       "    </tr>\n",
       "    <tr>\n",
       "      <th>4</th>\n",
       "      <td>Afghanistan</td>\n",
       "      <td>1916</td>\n",
       "      <td>13.343000</td>\n",
       "      <td>33.9391</td>\n",
       "      <td>67.71</td>\n",
       "    </tr>\n",
       "  </tbody>\n",
       "</table>\n",
       "</div>"
      ],
      "text/plain": [
       "       Country  Year  AverageTemperature      Lat    Lng\n",
       "0  Afghanistan  1912           13.902667  33.9391  67.71\n",
       "1  Afghanistan  1913           13.859250  33.9391  67.71\n",
       "2  Afghanistan  1914           14.296833  33.9391  67.71\n",
       "3  Afghanistan  1915           14.914583  33.9391  67.71\n",
       "4  Afghanistan  1916           13.343000  33.9391  67.71"
      ]
     },
     "execution_count": 16,
     "metadata": {},
     "output_type": "execute_result"
    }
   ],
   "source": [
    "hemisphere_df = pd.merge(country_yearly, listofcountries, on = \"Country\", how=\"left\")\n",
    "hemisphere_df.head()\n"
   ]
  },
  {
   "cell_type": "code",
   "execution_count": 17,
   "metadata": {
    "scrolled": true
   },
   "outputs": [
    {
     "data": {
      "image/png": "[encoded data removed]",
      "text/plain": [
       "<Figure size 432x288 with 1 Axes>"
      ]
     },
     "metadata": {
      "needs_background": "light"
     },
     "output_type": "display_data"
    }
   ],
   "source": [
    "northern_df = hemisphere_df[(hemisphere_df.Lat >= 0)]\n",
    "\n",
    "northern_df = northern_df.groupby(\"Year\").agg({\"AverageTemperature\":\"mean\"}).plot()\n",
    "\n",
    "plt.title('Yearly Average Temperature in the Northern Hemisphere (1912-2012)')\n",
    "plt.xlabel('Year')\n",
    "plt.ylabel('Yearly Average Temperature')\n",
    "\n",
    "plt.ylim(17, 20)\n",
    "\n",
    "plt.grid()\n",
    "\n",
    "plt.savefig(\"Yearly Average Temperature in the Northern Hemisphere (1912-2012).png\")"
   ]
  },
  {
   "cell_type": "code",
   "execution_count": 18,
   "metadata": {},
   "outputs": [
    {
     "data": {
      "image/png": "[encoded data removed]",
      "text/plain": [
       "<Figure size 432x288 with 1 Axes>"
      ]
     },
     "metadata": {
      "needs_background": "light"
     },
     "output_type": "display_data"
    }
   ],
   "source": [
    "southern_df = hemisphere_df[(hemisphere_df.Lat < 0)]\n",
    "\n",
    "southern_df = southern_df.groupby(\"Year\").agg({\"AverageTemperature\":\"mean\"}).plot()\n",
    "\n",
    "plt.title('Yearly Average Temperature in the Southern Hemisphere (1912-2012)')\n",
    "plt.xlabel('Year')\n",
    "plt.ylabel('Yearly Average Temperature')\n",
    "\n",
    "plt.ylim(20, 23)\n",
    "\n",
    "plt.grid()\n",
    "\n",
    "plt.savefig(\"Yearly Average Temperature in the Southern Hemisphere (1912-2012).png\")"
   ]
  },
  {
   "cell_type": "code",
   "execution_count": null,
   "metadata": {},
   "outputs": [],
   "source": []
  },
  {
   "cell_type": "code",
   "execution_count": null,
   "metadata": {},
   "outputs": [],
   "source": []
  },
  {
   "cell_type": "markdown",
   "metadata": {},
   "source": [
    "### 4. Which are the top 10 countries in the Northern hemisphere that have the largest range between their maximum & minimum average yearly temperature in the past 10 decades"
   ]
  },
  {
   "cell_type": "code",
   "execution_count": 19,
   "metadata": {},
   "outputs": [],
   "source": [
    "northern_V2 = hemisphere_df[(hemisphere_df.Lat >= 0)]"
   ]
  },
  {
   "cell_type": "code",
   "execution_count": 20,
   "metadata": {},
   "outputs": [
    {
     "data": {
      "text/html": [
       "<div>\n",
       "<style scoped>\n",
       "    .dataframe tbody tr th:only-of-type {\n",
       "        vertical-align: middle;\n",
       "    }\n",
       "\n",
       "    .dataframe tbody tr th {\n",
       "        vertical-align: top;\n",
       "    }\n",
       "\n",
       "    .dataframe thead th {\n",
       "        text-align: right;\n",
       "    }\n",
       "</style>\n",
       "<table border=\"1\" class=\"dataframe\">\n",
       "  <thead>\n",
       "    <tr style=\"text-align: right;\">\n",
       "      <th></th>\n",
       "      <th>Maximum</th>\n",
       "      <th>Minimum</th>\n",
       "      <th>Differences</th>\n",
       "    </tr>\n",
       "    <tr>\n",
       "      <th>Country</th>\n",
       "      <th></th>\n",
       "      <th></th>\n",
       "      <th></th>\n",
       "    </tr>\n",
       "  </thead>\n",
       "  <tbody>\n",
       "    <tr>\n",
       "      <th>Afghanistan</th>\n",
       "      <td>15.828667</td>\n",
       "      <td>12.547167</td>\n",
       "      <td>3.281500</td>\n",
       "    </tr>\n",
       "    <tr>\n",
       "      <th>Albania</th>\n",
       "      <td>14.099667</td>\n",
       "      <td>11.582500</td>\n",
       "      <td>2.517167</td>\n",
       "    </tr>\n",
       "    <tr>\n",
       "      <th>Algeria</th>\n",
       "      <td>25.215667</td>\n",
       "      <td>22.356750</td>\n",
       "      <td>2.858917</td>\n",
       "    </tr>\n",
       "    <tr>\n",
       "      <th>Andorra</th>\n",
       "      <td>12.994417</td>\n",
       "      <td>10.297333</td>\n",
       "      <td>2.697083</td>\n",
       "    </tr>\n",
       "    <tr>\n",
       "      <th>Anguilla</th>\n",
       "      <td>27.856000</td>\n",
       "      <td>25.926667</td>\n",
       "      <td>1.929333</td>\n",
       "    </tr>\n",
       "  </tbody>\n",
       "</table>\n",
       "</div>"
      ],
      "text/plain": [
       "               Maximum    Minimum  Differences\n",
       "Country                                       \n",
       "Afghanistan  15.828667  12.547167     3.281500\n",
       "Albania      14.099667  11.582500     2.517167\n",
       "Algeria      25.215667  22.356750     2.858917\n",
       "Andorra      12.994417  10.297333     2.697083\n",
       "Anguilla     27.856000  25.926667     1.929333"
      ]
     },
     "execution_count": 20,
     "metadata": {},
     "output_type": "execute_result"
    }
   ],
   "source": [
    "max_tem = northern_V2.groupby('Country')['AverageTemperature'].max()\n",
    "min_tem = northern_V2.groupby('Country')['AverageTemperature'].min()\n",
    "\n",
    "diff = max_tem - min_tem\n",
    "\n",
    "country_tem_changes = pd.DataFrame({\n",
    "    \"Maximum\": max_tem,\n",
    "    \"Minimum\": min_tem,\n",
    "    \"Differences\": diff\n",
    "})\n",
    "\n",
    "country_tem_changes.head()"
   ]
  },
  {
   "cell_type": "code",
   "execution_count": 21,
   "metadata": {},
   "outputs": [
    {
     "data": {
      "text/html": [
       "<div>\n",
       "<style scoped>\n",
       "    .dataframe tbody tr th:only-of-type {\n",
       "        vertical-align: middle;\n",
       "    }\n",
       "\n",
       "    .dataframe tbody tr th {\n",
       "        vertical-align: top;\n",
       "    }\n",
       "\n",
       "    .dataframe thead th {\n",
       "        text-align: right;\n",
       "    }\n",
       "</style>\n",
       "<table border=\"1\" class=\"dataframe\">\n",
       "  <thead>\n",
       "    <tr style=\"text-align: right;\">\n",
       "      <th></th>\n",
       "      <th>Country</th>\n",
       "      <th>Maximum</th>\n",
       "      <th>Minimum</th>\n",
       "      <th>Differences</th>\n",
       "    </tr>\n",
       "  </thead>\n",
       "  <tbody>\n",
       "    <tr>\n",
       "      <th>0</th>\n",
       "      <td>Svalbard And Jan Mayen</td>\n",
       "      <td>-3.781000</td>\n",
       "      <td>-9.682667</td>\n",
       "      <td>5.901667</td>\n",
       "    </tr>\n",
       "    <tr>\n",
       "      <th>1</th>\n",
       "      <td>Canada</td>\n",
       "      <td>-1.887917</td>\n",
       "      <td>-6.802917</td>\n",
       "      <td>4.915000</td>\n",
       "    </tr>\n",
       "    <tr>\n",
       "      <th>2</th>\n",
       "      <td>Greenland</td>\n",
       "      <td>-15.546333</td>\n",
       "      <td>-20.446833</td>\n",
       "      <td>4.900500</td>\n",
       "    </tr>\n",
       "    <tr>\n",
       "      <th>3</th>\n",
       "      <td>Denmark</td>\n",
       "      <td>-15.085750</td>\n",
       "      <td>-19.857750</td>\n",
       "      <td>4.772000</td>\n",
       "    </tr>\n",
       "    <tr>\n",
       "      <th>4</th>\n",
       "      <td>Estonia</td>\n",
       "      <td>7.267833</td>\n",
       "      <td>2.549583</td>\n",
       "      <td>4.718250</td>\n",
       "    </tr>\n",
       "    <tr>\n",
       "      <th>5</th>\n",
       "      <td>Finland</td>\n",
       "      <td>3.834750</td>\n",
       "      <td>-0.855833</td>\n",
       "      <td>4.690583</td>\n",
       "    </tr>\n",
       "    <tr>\n",
       "      <th>6</th>\n",
       "      <td>Latvia</td>\n",
       "      <td>7.681083</td>\n",
       "      <td>3.145000</td>\n",
       "      <td>4.536083</td>\n",
       "    </tr>\n",
       "    <tr>\n",
       "      <th>7</th>\n",
       "      <td>Armenia</td>\n",
       "      <td>11.509500</td>\n",
       "      <td>7.020583</td>\n",
       "      <td>4.488917</td>\n",
       "    </tr>\n",
       "    <tr>\n",
       "      <th>8</th>\n",
       "      <td>Georgia</td>\n",
       "      <td>11.102417</td>\n",
       "      <td>6.639583</td>\n",
       "      <td>4.462833</td>\n",
       "    </tr>\n",
       "    <tr>\n",
       "      <th>9</th>\n",
       "      <td>Azerbaijan</td>\n",
       "      <td>13.962667</td>\n",
       "      <td>9.594083</td>\n",
       "      <td>4.368583</td>\n",
       "    </tr>\n",
       "  </tbody>\n",
       "</table>\n",
       "</div>"
      ],
      "text/plain": [
       "                  Country    Maximum    Minimum  Differences\n",
       "0  Svalbard And Jan Mayen  -3.781000  -9.682667     5.901667\n",
       "1                  Canada  -1.887917  -6.802917     4.915000\n",
       "2               Greenland -15.546333 -20.446833     4.900500\n",
       "3                 Denmark -15.085750 -19.857750     4.772000\n",
       "4                 Estonia   7.267833   2.549583     4.718250\n",
       "5                 Finland   3.834750  -0.855833     4.690583\n",
       "6                  Latvia   7.681083   3.145000     4.536083\n",
       "7                 Armenia  11.509500   7.020583     4.488917\n",
       "8                 Georgia  11.102417   6.639583     4.462833\n",
       "9              Azerbaijan  13.962667   9.594083     4.368583"
      ]
     },
     "execution_count": 21,
     "metadata": {},
     "output_type": "execute_result"
    }
   ],
   "source": [
    "# Find the bottom countries (countries that had the smalles change in temperature)\n",
    "\n",
    "large_changes = country_tem_changes.nlargest(10, 'Differences').reset_index()\n",
    "large_changes"
   ]
  },
  {
   "cell_type": "code",
   "execution_count": 22,
   "metadata": {},
   "outputs": [
    {
     "data": {
      "text/html": [
       "<div>\n",
       "<style scoped>\n",
       "    .dataframe tbody tr th:only-of-type {\n",
       "        vertical-align: middle;\n",
       "    }\n",
       "\n",
       "    .dataframe tbody tr th {\n",
       "        vertical-align: top;\n",
       "    }\n",
       "\n",
       "    .dataframe thead th {\n",
       "        text-align: right;\n",
       "    }\n",
       "</style>\n",
       "<table border=\"1\" class=\"dataframe\">\n",
       "  <thead>\n",
       "    <tr style=\"text-align: right;\">\n",
       "      <th></th>\n",
       "      <th>Country</th>\n",
       "      <th>Maximum</th>\n",
       "      <th>Minimum</th>\n",
       "      <th>Differences</th>\n",
       "      <th>Lat</th>\n",
       "      <th>Lng</th>\n",
       "    </tr>\n",
       "  </thead>\n",
       "  <tbody>\n",
       "    <tr>\n",
       "      <th>0</th>\n",
       "      <td>Svalbard And Jan Mayen</td>\n",
       "      <td>-3.781000</td>\n",
       "      <td>-9.682667</td>\n",
       "      <td>5.901667</td>\n",
       "      <td>77.5536</td>\n",
       "      <td>23.6703</td>\n",
       "    </tr>\n",
       "    <tr>\n",
       "      <th>1</th>\n",
       "      <td>Canada</td>\n",
       "      <td>-1.887917</td>\n",
       "      <td>-6.802917</td>\n",
       "      <td>4.915000</td>\n",
       "      <td>56.1304</td>\n",
       "      <td>-106.347</td>\n",
       "    </tr>\n",
       "    <tr>\n",
       "      <th>2</th>\n",
       "      <td>Greenland</td>\n",
       "      <td>-15.546333</td>\n",
       "      <td>-20.446833</td>\n",
       "      <td>4.900500</td>\n",
       "      <td>71.7069</td>\n",
       "      <td>-42.6043</td>\n",
       "    </tr>\n",
       "    <tr>\n",
       "      <th>3</th>\n",
       "      <td>Denmark</td>\n",
       "      <td>-15.085750</td>\n",
       "      <td>-19.857750</td>\n",
       "      <td>4.772000</td>\n",
       "      <td>56.2639</td>\n",
       "      <td>9.50178</td>\n",
       "    </tr>\n",
       "    <tr>\n",
       "      <th>4</th>\n",
       "      <td>Estonia</td>\n",
       "      <td>7.267833</td>\n",
       "      <td>2.549583</td>\n",
       "      <td>4.718250</td>\n",
       "      <td>58.5953</td>\n",
       "      <td>25.0136</td>\n",
       "    </tr>\n",
       "    <tr>\n",
       "      <th>5</th>\n",
       "      <td>Finland</td>\n",
       "      <td>3.834750</td>\n",
       "      <td>-0.855833</td>\n",
       "      <td>4.690583</td>\n",
       "      <td>61.9241</td>\n",
       "      <td>25.7482</td>\n",
       "    </tr>\n",
       "    <tr>\n",
       "      <th>6</th>\n",
       "      <td>Latvia</td>\n",
       "      <td>7.681083</td>\n",
       "      <td>3.145000</td>\n",
       "      <td>4.536083</td>\n",
       "      <td>56.8796</td>\n",
       "      <td>24.6032</td>\n",
       "    </tr>\n",
       "    <tr>\n",
       "      <th>7</th>\n",
       "      <td>Armenia</td>\n",
       "      <td>11.509500</td>\n",
       "      <td>7.020583</td>\n",
       "      <td>4.488917</td>\n",
       "      <td>40.0691</td>\n",
       "      <td>45.0382</td>\n",
       "    </tr>\n",
       "    <tr>\n",
       "      <th>8</th>\n",
       "      <td>Georgia</td>\n",
       "      <td>11.102417</td>\n",
       "      <td>6.639583</td>\n",
       "      <td>4.462833</td>\n",
       "      <td>32.1656</td>\n",
       "      <td>-82.9001</td>\n",
       "    </tr>\n",
       "    <tr>\n",
       "      <th>9</th>\n",
       "      <td>Azerbaijan</td>\n",
       "      <td>13.962667</td>\n",
       "      <td>9.594083</td>\n",
       "      <td>4.368583</td>\n",
       "      <td>40.1431</td>\n",
       "      <td>47.5769</td>\n",
       "    </tr>\n",
       "  </tbody>\n",
       "</table>\n",
       "</div>"
      ],
      "text/plain": [
       "                  Country    Maximum    Minimum  Differences      Lat      Lng\n",
       "0  Svalbard And Jan Mayen  -3.781000  -9.682667     5.901667  77.5536  23.6703\n",
       "1                  Canada  -1.887917  -6.802917     4.915000  56.1304 -106.347\n",
       "2               Greenland -15.546333 -20.446833     4.900500  71.7069 -42.6043\n",
       "3                 Denmark -15.085750 -19.857750     4.772000  56.2639  9.50178\n",
       "4                 Estonia   7.267833   2.549583     4.718250  58.5953  25.0136\n",
       "5                 Finland   3.834750  -0.855833     4.690583  61.9241  25.7482\n",
       "6                  Latvia   7.681083   3.145000     4.536083  56.8796  24.6032\n",
       "7                 Armenia  11.509500   7.020583     4.488917  40.0691  45.0382\n",
       "8                 Georgia  11.102417   6.639583     4.462833  32.1656 -82.9001\n",
       "9              Azerbaijan  13.962667   9.594083     4.368583  40.1431  47.5769"
      ]
     },
     "execution_count": 22,
     "metadata": {},
     "output_type": "execute_result"
    }
   ],
   "source": [
    "# Merge the country information with lat & lng locations\n",
    "\n",
    "large_changes = pd.merge(large_changes, listofcountries, on=\"Country\", how=\"left\")\n",
    "large_changes"
   ]
  },
  {
   "cell_type": "code",
   "execution_count": 23,
   "metadata": {},
   "outputs": [],
   "source": [
    "gmaps.configure(api_key = g_api)"
   ]
  },
  {
   "cell_type": "code",
   "execution_count": 24,
   "metadata": {},
   "outputs": [
    {
     "data": {
      "application/vnd.jupyter.widget-view+json": {
       "model_id": "7e96f4ed89b44fcebb104e403edca651",
       "version_major": 2,
       "version_minor": 0
      },
      "text/plain": [
       "Figure(layout=FigureLayout(height='420px'))"
      ]
     },
     "metadata": {},
     "output_type": "display_data"
    }
   ],
   "source": [
    "# Plot Gmaps to show the location of the countries that had the smallest average yearly temperature changes\n",
    "\n",
    "center = (65,19)\n",
    "\n",
    "locations = large_changes[[\"Lat\", \"Lng\"]]\n",
    "\n",
    "changes = large_changes[\"Differences\"].astype(float)\n",
    "\n",
    "fig = gmaps.figure(center=center, zoom_level=2)\n",
    "\n",
    "markers = gmaps.marker_layer(locations)\n",
    "\n",
    "fig.add_layer(markers)\n",
    "\n",
    "\n",
    "fig\n"
   ]
  },
  {
   "cell_type": "markdown",
   "metadata": {},
   "source": [
    "### 5. Looking at the United States"
   ]
  },
  {
   "cell_type": "code",
   "execution_count": 25,
   "metadata": {},
   "outputs": [
    {
     "data": {
      "image/png": "[encoded data removed]",
      "text/plain": [
       "<Figure size 432x288 with 1 Axes>"
      ]
     },
     "metadata": {
      "needs_background": "light"
     },
     "output_type": "display_data"
    }
   ],
   "source": [
    "usa = country_yearly[(country_yearly.Country == \"United States\")]\n",
    "\n",
    "x_axis = usa[\"Year\"]\n",
    "y_axis = usa[\"AverageTemperature\"]\n",
    "\n",
    "plt.plot(x_axis, y_axis)\n",
    "\n",
    "plt.title(\"United States' Yearly Average Temperature (1912-2012)\")\n",
    "plt.xlabel('Year')\n",
    "plt.ylabel('Yearly Average Temperature')\n",
    "\n",
    "plt.ylim(7.5, 11.5)\n",
    "\n",
    "plt.grid()\n",
    "\n",
    "plt.savefig(\"United States' Yearly Average Temperature (1912-2012).png\")"
   ]
  },
  {
   "cell_type": "code",
   "execution_count": 26,
   "metadata": {},
   "outputs": [
    {
     "data": {
      "image/png": "[encoded data removed]",
      "text/plain": [
       "<Figure size 432x288 with 1 Axes>"
      ]
     },
     "metadata": {
      "needs_background": "light"
     },
     "output_type": "display_data"
    }
   ],
   "source": [
    "usa_V2 = usa[(usa.Year >= 2000)]\n",
    "\n",
    "x_axis = usa_V2[\"Year\"]\n",
    "y_axis = usa_V2[\"AverageTemperature\"]\n",
    "\n",
    "plt.plot(x_axis, y_axis)\n",
    "\n",
    "plt.title(\"United States' Yearly Average Temperature (2000-2012)\")\n",
    "plt.xlabel('Year')\n",
    "plt.ylabel('Yearly Average Temperature')\n",
    "\n",
    "plt.ylim(7.5, 11.5)\n",
    "\n",
    "plt.grid()\n",
    "\n",
    "plt.savefig(\"United States' Yearly Average Temperature (2000-2012).png\")"
   ]
  },
  {
   "cell_type": "markdown",
   "metadata": {},
   "source": [
    "### 6. Looking at Australia"
   ]
  },
  {
   "cell_type": "code",
   "execution_count": 27,
   "metadata": {},
   "outputs": [
    {
     "data": {
      "image/png": "[encoded data removed]",
      "text/plain": [
       "<Figure size 432x288 with 1 Axes>"
      ]
     },
     "metadata": {
      "needs_background": "light"
     },
     "output_type": "display_data"
    }
   ],
   "source": [
    "australia = country_yearly[(country_yearly.Country == \"Australia\")]\n",
    "\n",
    "x_axis = australia[\"Year\"]\n",
    "y_axis = australia[\"AverageTemperature\"]\n",
    "\n",
    "plt.plot(x_axis, y_axis)\n",
    "\n",
    "plt.title(\"Australia's Yearly Average Temperature (1912-2012)\")\n",
    "plt.xlabel('Year')\n",
    "plt.ylabel('Yearly Average Temperature')\n",
    "\n",
    "plt.ylim(20.5, 24.5)\n",
    "\n",
    "plt.grid()\n",
    "\n",
    "plt.savefig(\"Australia's Yearly Average Temperature (1912-2012).png\")"
   ]
  },
  {
   "cell_type": "code",
   "execution_count": 28,
   "metadata": {},
   "outputs": [
    {
     "name": "stdout",
     "output_type": "stream",
     "text": [
      "The r-squared is: 0.3993546238021572\n"
     ]
    },
    {
     "data": {
      "image/png": "[encoded data removed]",
      "text/plain": [
       "<Figure size 432x288 with 1 Axes>"
      ]
     },
     "metadata": {
      "needs_background": "light"
     },
     "output_type": "display_data"
    },
    {
     "data": {
      "text/plain": [
       "<Figure size 432x288 with 0 Axes>"
      ]
     },
     "metadata": {},
     "output_type": "display_data"
    }
   ],
   "source": [
    "x_values = australia[\"Year\"]\n",
    "y_values = australia[\"AverageTemperature\"]\n",
    "(slope, intercept, rvalue, pvalue, stderr) = linregress(x_values, y_values)\n",
    "regress_values = x_values * slope + intercept\n",
    "line_eq = \"y = \" + str(round(slope,2)) + \"x + \" + str(round(intercept,2))\n",
    "plt.scatter(x_values,y_values,)\n",
    "plt.plot(x_values,regress_values,\"r-\")\n",
    "plt.annotate(line_eq,(1960,21),fontsize=15,color=\"red\")\n",
    "plt.title(\"Australia's Yearly Average Temperature (1912-2012)\")\n",
    "plt.xlabel(\"Year\")\n",
    "plt.ylabel(\"Yearly Average Temperature\")\n",
    "print(f\"The r-squared is: {rvalue**2}\")\n",
    "\n",
    "plt.show()\n",
    "\n",
    "plt.savefig(\"Australia's Yearly Average Temperature (1912-2012).png\")"
   ]
  },
  {
   "cell_type": "markdown",
   "metadata": {},
   "source": [
    "### 7. Predicting Australia's average yearly temperature in 2015\n",
    "\n"
   ]
  },
  {
   "cell_type": "code",
   "execution_count": 29,
   "metadata": {},
   "outputs": [
    {
     "data": {
      "text/plain": [
       "22.417304917491748"
      ]
     },
     "execution_count": 29,
     "metadata": {},
     "output_type": "execute_result"
    }
   ],
   "source": [
    "x = 2030\n",
    "y = slope * x + intercept\n",
    "\n",
    "y"
   ]
  },
  {
   "cell_type": "code",
   "execution_count": null,
   "metadata": {},
   "outputs": [],
   "source": []
  }
 ],
 "metadata": {
  "kernelspec": {
   "display_name": "Python 3",
   "language": "python",
   "name": "python3"
  },
  "language_info": {
   "codemirror_mode": {
    "name": "ipython",
    "version": 3
   },
   "file_extension": ".py",
   "mimetype": "text/x-python",
   "name": "python",
   "nbconvert_exporter": "python",
   "pygments_lexer": "ipython3",
   "version": "3.6.10"
  }
 },
 "nbformat": 4,
 "nbformat_minor": 4
}
