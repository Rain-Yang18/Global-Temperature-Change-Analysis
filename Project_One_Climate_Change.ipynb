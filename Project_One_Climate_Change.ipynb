{
 "cells": [
  {
   "cell_type": "markdown",
   "metadata": {},
   "source": [
    "# Project One: Climate Change - Earth Surface Temperature"
   ]
  },
  {
   "cell_type": "code",
   "execution_count": null,
   "metadata": {},
   "outputs": [],
   "source": [
    "#1.\tWhat’s the global average yearly temperature movements over the last 10 or 11 decades?\n",
    "#a.\tAssumption: The global average yearly temperature has increased\n",
    "#2.\tIs there a correlation between global population growth and temperature rise?\n",
    "#3.\tIf the temperature movements across the last 10 or 11 decades were different between the Northern and Southern hemisphere.\n",
    "#4.\tWhich are the top 10 countries that experienced the maximum average yearly temperature shifts?\n",
    "#a.\tWith the highest temperature rise and looking for any causes or any policies they have adopted.\n",
    "#5.\tWhich are the bottom 10 countries that had the least change in average yearly temperatures?\n",
    "#6.\tLooking at Australia, what’re the changes in yearly temperature in the last 10 or 11 decades?\n",
    "#7.\tCompare between Melbourne and Sydney, are there differences between the movements of average yearly temperature? \n"
   ]
  },
  {
   "cell_type": "code",
   "execution_count": null,
   "metadata": {},
   "outputs": [],
   "source": []
  }
 ],
 "metadata": {
  "kernelspec": {
   "display_name": "Python 3",
   "language": "python",
   "name": "python3"
  },
  "language_info": {
   "codemirror_mode": {
    "name": "ipython",
    "version": 3
   },
   "file_extension": ".py",
   "mimetype": "text/x-python",
   "name": "python",
   "nbconvert_exporter": "python",
   "pygments_lexer": "ipython3",
   "version": "3.8.5"
  }
 },
 "nbformat": 4,
 "nbformat_minor": 4
}
